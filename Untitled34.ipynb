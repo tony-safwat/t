{
 "cells": [
  {
   "cell_type": "code",
   "execution_count": null,
   "id": "7ff56ed6",
   "metadata": {},
   "outputs": [],
   "source": [
    "\n",
    "def tony(t,y,u):\n",
    "    return (t+y+u)/3\n",
    "print(tony(6, 8, 6))    \n",
    "    \n",
    "6.666666666666667\n",
    "num1 = float(input(\"enter num1 :  \"))\n",
    "num2 = float(input(\"enter num2 :  \"))\n",
    "\n",
    "total = num1 + num2\n",
    "\n",
    "print(\"total is :\", total)\n",
    "total is : 4.0\n",
    "#برنامج اله حاسبه \n",
    "\n",
    "# fun for adding\n",
    "def add(x ,y):\n",
    "    return x + y\n",
    "# fun for subtracting\n",
    "def sub(x, y):\n",
    "    return x - y\n",
    "# fun for mult\n",
    "def div(x, y):\n",
    "    return x/y\n",
    "# fun for times\n",
    "def mult(x, y):\n",
    "    return x*y\n",
    "\n",
    "def calc(x, y , opper):\n",
    "    if opper == 'add':\n",
    "        return add(x, y)\n",
    "        \n",
    "    elif opper == 'sub':\n",
    "        return sub(x, y)\n",
    "        \n",
    "    elif opper == 'div':\n",
    "        return div(x, y)\n",
    "        \n",
    "    elif opper == 'mult':\n",
    "        return mult(x, y)\n",
    "        \n",
    "    else: print('error')\n",
    "\n",
    "\n",
    "calc(1, 4 , 'div')\n",
    "0.25\n",
    " "
   ]
  }
 ],
 "metadata": {
  "kernelspec": {
   "display_name": "Python 3 (ipykernel)",
   "language": "python",
   "name": "python3"
  },
  "language_info": {
   "codemirror_mode": {
    "name": "ipython",
    "version": 3
   },
   "file_extension": ".py",
   "mimetype": "text/x-python",
   "name": "python",
   "nbconvert_exporter": "python",
   "pygments_lexer": "ipython3",
   "version": "3.11.7"
  }
 },
 "nbformat": 4,
 "nbformat_minor": 5
}
