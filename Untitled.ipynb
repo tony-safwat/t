{
 "cells": [
  {
   "cell_type": "code",
   "execution_count": null,
   "id": "ef45802a",
   "metadata": {},
   "outputs": [],
   "source": [
    "name=input()\n",
    "print(name)\n",
    "Age=input()\n",
    "print(Age)\n",
    "print(\"Hello\",name)"
   ]
  },
  {
   "cell_type": "code",
   "execution_count": null,
   "id": "28b39654",
   "metadata": {},
   "outputs": [],
   "source": [
    "name=input()\n",
    "print(name)\n",
    "Age=input()\n",
    "print(Age)\n",
    "print(\"Hello\",name)"
   ]
  },
  {
   "cell_type": "code",
   "execution_count": null,
   "id": "f864be4d",
   "metadata": {},
   "outputs": [],
   "source": [
    "print(\"enter name: \")\n",
    "name=input()\n",
    "print(\"Hello\",name)"
   ]
  },
  {
   "cell_type": "code",
   "execution_count": null,
   "id": "e340f1a5",
   "metadata": {},
   "outputs": [],
   "source": []
  }
 ],
 "metadata": {
  "kernelspec": {
   "display_name": "Python 3 (ipykernel)",
   "language": "python",
   "name": "python3"
  },
  "language_info": {
   "codemirror_mode": {
    "name": "ipython",
    "version": 3
   },
   "file_extension": ".py",
   "mimetype": "text/x-python",
   "name": "python",
   "nbconvert_exporter": "python",
   "pygments_lexer": "ipython3",
   "version": "3.11.4"
  }
 },
 "nbformat": 4,
 "nbformat_minor": 5
}
