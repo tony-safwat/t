{
 "cells": [
  {
   "cell_type": "code",
   "execution_count": 5,
   "id": "e9215542-fc25-4f8c-8083-f4ed6e09a42b",
   "metadata": {},
   "outputs": [
    {
     "name": "stdout",
     "output_type": "stream",
     "text": [
      "6.666666666666667\n"
     ]
    }
   ],
   "source": [
    "def tony(t,y,u):\n",
    "    return (t+y+u)/3\n",
    "print(tony(6, 8, 6))    \n",
    "    "
   ]
  },
  {
   "cell_type": "code",
   "execution_count": 9,
   "id": "1f72f96a-98a2-44f1-af74-8ccc801ea077",
   "metadata": {},
   "outputs": [
    {
     "name": "stdin",
     "output_type": "stream",
     "text": [
      "enter num1 :   2\n",
      "enter num2 :   2\n"
     ]
    },
    {
     "name": "stdout",
     "output_type": "stream",
     "text": [
      "total is : 4.0\n"
     ]
    }
   ],
   "source": [
    "num1 = float(input(\"enter num1 :  \"))\n",
    "num2 = float(input(\"enter num2 :  \"))\n",
    "\n",
    "total = num1 + num2\n",
    "\n",
    "print(\"total is :\", total)\n"
   ]
  },
  {
   "cell_type": "raw",
   "id": "ba853454-6417-49dc-aa84-f4902bf6ddd1",
   "metadata": {},
   "source": []
  },
  {
   "cell_type": "code",
   "execution_count": 12,
   "id": "82cb9438-fb7d-4cb1-b32b-303e5c26c6f1",
   "metadata": {},
   "outputs": [
    {
     "data": {
      "text/plain": [
       "0.25"
      ]
     },
     "execution_count": 12,
     "metadata": {},
     "output_type": "execute_result"
    }
   ],
   "source": [
    "#برنامج اله حاسبه \n",
    "\n",
    "# fun for adding\n",
    "def add(x ,y):\n",
    "    return x + y\n",
    "# fun for subtracting\n",
    "def sub(x, y):\n",
    "    return x - y\n",
    "# fun for mult\n",
    "def div(x, y):\n",
    "    return x/y\n",
    "# fun for times\n",
    "def mult(x, y):\n",
    "    return x*y\n",
    "\n",
    "def calc(x, y , opper):\n",
    "    if opper == 'add':\n",
    "        return add(x, y)\n",
    "        \n",
    "    elif opper == 'sub':\n",
    "        return sub(x, y)\n",
    "        \n",
    "    elif opper == 'div':\n",
    "        return div(x, y)\n",
    "        \n",
    "    elif opper == 'mult':\n",
    "        return mult(x, y)\n",
    "        \n",
    "    else: print('error')\n",
    "\n",
    "\n",
    "calc(1, 4 , 'div')"
   ]
  },
  {
   "cell_type": "code",
   "execution_count": null,
   "id": "8e9d381e-5f75-46a0-a0fb-a7295646ead0",
   "metadata": {},
   "outputs": [],
   "source": []
  }
 ],
 "metadata": {
  "kernelspec": {
   "display_name": "Python 3 (ipykernel)",
   "language": "python",
   "name": "python3"
  },
  "language_info": {
   "codemirror_mode": {
    "name": "ipython",
    "version": 3
   },
   "file_extension": ".py",
   "mimetype": "text/x-python",
   "name": "python",
   "nbconvert_exporter": "python",
   "pygments_lexer": "ipython3",
   "version": "3.11.7"
  }
 },
 "nbformat": 4,
 "nbformat_minor": 5
}
